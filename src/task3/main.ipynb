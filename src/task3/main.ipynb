{
 "cells": [
  {
   "attachments": {},
   "cell_type": "markdown",
   "metadata": {},
   "source": [
    "## New Prediction strategy (Task 3)"
   ]
  },
  {
   "cell_type": "markdown",
   "metadata": {},
   "source": [
    "Import the utility libraries"
   ]
  },
  {
   "cell_type": "code",
   "execution_count": 8,
   "metadata": {},
   "outputs": [],
   "source": [
    "import pandas as pd\n",
    "import numpy as np\n",
    "import random\n",
    "import statistics\n",
    "import tensorflow\n",
    "\n",
    "from sklearn.metrics import f1_score\n",
    "from sklearn.metrics import confusion_matrix\n",
    "from sklearn.preprocessing import StandardScaler\n",
    "from sklearn.model_selection import train_test_split\n",
    "\n",
    "from tensorflow.keras.models import Sequential\n",
    "from tensorflow.keras.models import load_model\n",
    "from tensorflow.keras.layers import LSTM, Dense\n",
    "\n",
    "from bayes_opt import BayesianOptimization"
   ]
  },
  {
   "cell_type": "code",
   "execution_count": 9,
   "metadata": {},
   "outputs": [],
   "source": [
    "path = \"\"\n",
    "#insert the path of the directory in which the CVSs are stored\n",
    "dataset_df = pd.read_csv(path+'balanced_df.csv')"
   ]
  },
  {
   "cell_type": "code",
   "execution_count": 10,
   "metadata": {},
   "outputs": [
    {
     "data": {
      "text/html": [
       "<div>\n",
       "<style scoped>\n",
       "    .dataframe tbody tr th:only-of-type {\n",
       "        vertical-align: middle;\n",
       "    }\n",
       "\n",
       "    .dataframe tbody tr th {\n",
       "        vertical-align: top;\n",
       "    }\n",
       "\n",
       "    .dataframe thead th {\n",
       "        text-align: right;\n",
       "    }\n",
       "</style>\n",
       "<table border=\"1\" class=\"dataframe\">\n",
       "  <thead>\n",
       "    <tr style=\"text-align: right;\">\n",
       "      <th></th>\n",
       "      <th>idcentro</th>\n",
       "      <th>idana</th>\n",
       "      <th>sesso</th>\n",
       "      <th>codici</th>\n",
       "      <th>data</th>\n",
       "      <th>etaevento</th>\n",
       "      <th>label</th>\n",
       "    </tr>\n",
       "  </thead>\n",
       "  <tbody>\n",
       "    <tr>\n",
       "      <th>0</th>\n",
       "      <td>1</td>\n",
       "      <td>5</td>\n",
       "      <td>1</td>\n",
       "      <td>149</td>\n",
       "      <td>1.213920e+09</td>\n",
       "      <td>66</td>\n",
       "      <td>1</td>\n",
       "    </tr>\n",
       "    <tr>\n",
       "      <th>1</th>\n",
       "      <td>1</td>\n",
       "      <td>5</td>\n",
       "      <td>1</td>\n",
       "      <td>149</td>\n",
       "      <td>1.377562e+09</td>\n",
       "      <td>71</td>\n",
       "      <td>1</td>\n",
       "    </tr>\n",
       "    <tr>\n",
       "      <th>2</th>\n",
       "      <td>1</td>\n",
       "      <td>5</td>\n",
       "      <td>1</td>\n",
       "      <td>126</td>\n",
       "      <td>1.388448e+09</td>\n",
       "      <td>71</td>\n",
       "      <td>1</td>\n",
       "    </tr>\n",
       "    <tr>\n",
       "      <th>3</th>\n",
       "      <td>1</td>\n",
       "      <td>5</td>\n",
       "      <td>1</td>\n",
       "      <td>159</td>\n",
       "      <td>1.388448e+09</td>\n",
       "      <td>71</td>\n",
       "      <td>1</td>\n",
       "    </tr>\n",
       "    <tr>\n",
       "      <th>4</th>\n",
       "      <td>1</td>\n",
       "      <td>5</td>\n",
       "      <td>1</td>\n",
       "      <td>16</td>\n",
       "      <td>1.106006e+09</td>\n",
       "      <td>63</td>\n",
       "      <td>1</td>\n",
       "    </tr>\n",
       "  </tbody>\n",
       "</table>\n",
       "</div>"
      ],
      "text/plain": [
       "   idcentro  idana  sesso  codici          data  etaevento  label\n",
       "0         1      5      1     149  1.213920e+09         66      1\n",
       "1         1      5      1     149  1.377562e+09         71      1\n",
       "2         1      5      1     126  1.388448e+09         71      1\n",
       "3         1      5      1     159  1.388448e+09         71      1\n",
       "4         1      5      1      16  1.106006e+09         63      1"
      ]
     },
     "execution_count": 10,
     "metadata": {},
     "output_type": "execute_result"
    }
   ],
   "source": [
    "dataset_df.head()"
   ]
  },
  {
   "attachments": {},
   "cell_type": "markdown",
   "metadata": {},
   "source": [
    "## 1.1 Create visits\n",
    "\n",
    "Took account of the date (and the order) of the ”composite event” but not the order of the ”sub-events”.<br>\n",
    "So we encoded the visits, then we decided to choose a representative for the visit <br>\n",
    "and we decided to store the number of ”sub-events” that took place during the visit."
   ]
  },
  {
   "cell_type": "code",
   "execution_count": 11,
   "metadata": {},
   "outputs": [],
   "source": [
    "dataset_df = dataset_df.groupby(['idcentro', 'idana', 'data', 'sesso', 'etaevento', 'label'], as_index=False).aggregate(list)"
   ]
  },
  {
   "cell_type": "code",
   "execution_count": 12,
   "metadata": {},
   "outputs": [],
   "source": [
    "dataset_df = dataset_df[['idcentro', 'idana', 'sesso', 'data', 'codici', 'etaevento', 'label']]"
   ]
  },
  {
   "attachments": {},
   "cell_type": "markdown",
   "metadata": {},
   "source": [
    "A row represents a **visita** in which there is a column **codici** , <br>\n",
    "with a list of all the codes of the events that happened that day."
   ]
  },
  {
   "cell_type": "code",
   "execution_count": 13,
   "metadata": {},
   "outputs": [
    {
     "data": {
      "text/html": [
       "<div>\n",
       "<style scoped>\n",
       "    .dataframe tbody tr th:only-of-type {\n",
       "        vertical-align: middle;\n",
       "    }\n",
       "\n",
       "    .dataframe tbody tr th {\n",
       "        vertical-align: top;\n",
       "    }\n",
       "\n",
       "    .dataframe thead th {\n",
       "        text-align: right;\n",
       "    }\n",
       "</style>\n",
       "<table border=\"1\" class=\"dataframe\">\n",
       "  <thead>\n",
       "    <tr style=\"text-align: right;\">\n",
       "      <th></th>\n",
       "      <th>idcentro</th>\n",
       "      <th>idana</th>\n",
       "      <th>sesso</th>\n",
       "      <th>datavisita</th>\n",
       "      <th>codici</th>\n",
       "      <th>etavisita</th>\n",
       "      <th>label</th>\n",
       "    </tr>\n",
       "  </thead>\n",
       "  <tbody>\n",
       "    <tr>\n",
       "      <th>0</th>\n",
       "      <td>1</td>\n",
       "      <td>5</td>\n",
       "      <td>1</td>\n",
       "      <td>315532800.0</td>\n",
       "      <td>[161]</td>\n",
       "      <td>38</td>\n",
       "      <td>1</td>\n",
       "    </tr>\n",
       "    <tr>\n",
       "      <th>1</th>\n",
       "      <td>1</td>\n",
       "      <td>5</td>\n",
       "      <td>1</td>\n",
       "      <td>504921600.0</td>\n",
       "      <td>[161]</td>\n",
       "      <td>44</td>\n",
       "      <td>1</td>\n",
       "    </tr>\n",
       "    <tr>\n",
       "      <th>2</th>\n",
       "      <td>1</td>\n",
       "      <td>5</td>\n",
       "      <td>1</td>\n",
       "      <td>536457600.0</td>\n",
       "      <td>[125, 161]</td>\n",
       "      <td>45</td>\n",
       "      <td>1</td>\n",
       "    </tr>\n",
       "    <tr>\n",
       "      <th>3</th>\n",
       "      <td>1</td>\n",
       "      <td>5</td>\n",
       "      <td>1</td>\n",
       "      <td>880934400.0</td>\n",
       "      <td>[161, 96]</td>\n",
       "      <td>55</td>\n",
       "      <td>1</td>\n",
       "    </tr>\n",
       "    <tr>\n",
       "      <th>4</th>\n",
       "      <td>1</td>\n",
       "      <td>5</td>\n",
       "      <td>1</td>\n",
       "      <td>959817600.0</td>\n",
       "      <td>[161, 161, 166]</td>\n",
       "      <td>58</td>\n",
       "      <td>1</td>\n",
       "    </tr>\n",
       "  </tbody>\n",
       "</table>\n",
       "</div>"
      ],
      "text/plain": [
       "   idcentro  idana  sesso   datavisita           codici  etavisita  label\n",
       "0         1      5      1  315532800.0            [161]         38      1\n",
       "1         1      5      1  504921600.0            [161]         44      1\n",
       "2         1      5      1  536457600.0       [125, 161]         45      1\n",
       "3         1      5      1  880934400.0        [161, 96]         55      1\n",
       "4         1      5      1  959817600.0  [161, 161, 166]         58      1"
      ]
     },
     "execution_count": 13,
     "metadata": {},
     "output_type": "execute_result"
    }
   ],
   "source": [
    "dataset_df = dataset_df.rename(columns={'data' : 'datavisita', 'etaevento' : 'etavisita'})\n",
    "dataset_df.head()"
   ]
  },
  {
   "cell_type": "code",
   "execution_count": 14,
   "metadata": {},
   "outputs": [],
   "source": [
    "dataset_df['numeroeventi'] = dataset_df['codici'].apply(len)"
   ]
  },
  {
   "cell_type": "code",
   "execution_count": 15,
   "metadata": {},
   "outputs": [
    {
     "data": {
      "text/html": [
       "<div>\n",
       "<style scoped>\n",
       "    .dataframe tbody tr th:only-of-type {\n",
       "        vertical-align: middle;\n",
       "    }\n",
       "\n",
       "    .dataframe tbody tr th {\n",
       "        vertical-align: top;\n",
       "    }\n",
       "\n",
       "    .dataframe thead th {\n",
       "        text-align: right;\n",
       "    }\n",
       "</style>\n",
       "<table border=\"1\" class=\"dataframe\">\n",
       "  <thead>\n",
       "    <tr style=\"text-align: right;\">\n",
       "      <th></th>\n",
       "      <th>idcentro</th>\n",
       "      <th>idana</th>\n",
       "      <th>sesso</th>\n",
       "      <th>datavisita</th>\n",
       "      <th>codici</th>\n",
       "      <th>etavisita</th>\n",
       "      <th>label</th>\n",
       "      <th>numeroeventi</th>\n",
       "      <th>rappresentantevisita</th>\n",
       "    </tr>\n",
       "  </thead>\n",
       "  <tbody>\n",
       "    <tr>\n",
       "      <th>0</th>\n",
       "      <td>1</td>\n",
       "      <td>5</td>\n",
       "      <td>1</td>\n",
       "      <td>315532800.0</td>\n",
       "      <td>[161]</td>\n",
       "      <td>38</td>\n",
       "      <td>1</td>\n",
       "      <td>1</td>\n",
       "      <td>161</td>\n",
       "    </tr>\n",
       "    <tr>\n",
       "      <th>1</th>\n",
       "      <td>1</td>\n",
       "      <td>5</td>\n",
       "      <td>1</td>\n",
       "      <td>504921600.0</td>\n",
       "      <td>[161]</td>\n",
       "      <td>44</td>\n",
       "      <td>1</td>\n",
       "      <td>1</td>\n",
       "      <td>161</td>\n",
       "    </tr>\n",
       "    <tr>\n",
       "      <th>2</th>\n",
       "      <td>1</td>\n",
       "      <td>5</td>\n",
       "      <td>1</td>\n",
       "      <td>536457600.0</td>\n",
       "      <td>[125, 161]</td>\n",
       "      <td>45</td>\n",
       "      <td>1</td>\n",
       "      <td>2</td>\n",
       "      <td>125</td>\n",
       "    </tr>\n",
       "    <tr>\n",
       "      <th>3</th>\n",
       "      <td>1</td>\n",
       "      <td>5</td>\n",
       "      <td>1</td>\n",
       "      <td>880934400.0</td>\n",
       "      <td>[161, 96]</td>\n",
       "      <td>55</td>\n",
       "      <td>1</td>\n",
       "      <td>2</td>\n",
       "      <td>161</td>\n",
       "    </tr>\n",
       "    <tr>\n",
       "      <th>4</th>\n",
       "      <td>1</td>\n",
       "      <td>5</td>\n",
       "      <td>1</td>\n",
       "      <td>959817600.0</td>\n",
       "      <td>[161, 161, 166]</td>\n",
       "      <td>58</td>\n",
       "      <td>1</td>\n",
       "      <td>3</td>\n",
       "      <td>161</td>\n",
       "    </tr>\n",
       "  </tbody>\n",
       "</table>\n",
       "</div>"
      ],
      "text/plain": [
       "   idcentro  idana  sesso   datavisita           codici  etavisita  label  \\\n",
       "0         1      5      1  315532800.0            [161]         38      1   \n",
       "1         1      5      1  504921600.0            [161]         44      1   \n",
       "2         1      5      1  536457600.0       [125, 161]         45      1   \n",
       "3         1      5      1  880934400.0        [161, 96]         55      1   \n",
       "4         1      5      1  959817600.0  [161, 161, 166]         58      1   \n",
       "\n",
       "   numeroeventi  rappresentantevisita  \n",
       "0             1                   161  \n",
       "1             1                   161  \n",
       "2             2                   125  \n",
       "3             2                   161  \n",
       "4             3                   161  "
      ]
     },
     "execution_count": 15,
     "metadata": {},
     "output_type": "execute_result"
    }
   ],
   "source": [
    "#choose a class representative on the code\n",
    "dataset_df['rappresentantevisita'] = dataset_df['codici'].apply(lambda x : statistics.mode(x))\n",
    "dataset_df.head()"
   ]
  },
  {
   "cell_type": "code",
   "execution_count": 16,
   "metadata": {},
   "outputs": [],
   "source": [
    "dataset_df = dataset_df.drop(columns='codici', axis=1)"
   ]
  },
  {
   "cell_type": "code",
   "execution_count": 17,
   "metadata": {},
   "outputs": [
    {
     "data": {
      "text/html": [
       "<div>\n",
       "<style scoped>\n",
       "    .dataframe tbody tr th:only-of-type {\n",
       "        vertical-align: middle;\n",
       "    }\n",
       "\n",
       "    .dataframe tbody tr th {\n",
       "        vertical-align: top;\n",
       "    }\n",
       "\n",
       "    .dataframe thead th {\n",
       "        text-align: right;\n",
       "    }\n",
       "</style>\n",
       "<table border=\"1\" class=\"dataframe\">\n",
       "  <thead>\n",
       "    <tr style=\"text-align: right;\">\n",
       "      <th></th>\n",
       "      <th>idcentro</th>\n",
       "      <th>idana</th>\n",
       "      <th>sesso</th>\n",
       "      <th>datavisita</th>\n",
       "      <th>rappresentantevisita</th>\n",
       "      <th>numeroeventi</th>\n",
       "      <th>etavisita</th>\n",
       "      <th>label</th>\n",
       "    </tr>\n",
       "  </thead>\n",
       "  <tbody>\n",
       "    <tr>\n",
       "      <th>0</th>\n",
       "      <td>1</td>\n",
       "      <td>5</td>\n",
       "      <td>1</td>\n",
       "      <td>315532800.0</td>\n",
       "      <td>161</td>\n",
       "      <td>1</td>\n",
       "      <td>38</td>\n",
       "      <td>1</td>\n",
       "    </tr>\n",
       "    <tr>\n",
       "      <th>1</th>\n",
       "      <td>1</td>\n",
       "      <td>5</td>\n",
       "      <td>1</td>\n",
       "      <td>504921600.0</td>\n",
       "      <td>161</td>\n",
       "      <td>1</td>\n",
       "      <td>44</td>\n",
       "      <td>1</td>\n",
       "    </tr>\n",
       "    <tr>\n",
       "      <th>2</th>\n",
       "      <td>1</td>\n",
       "      <td>5</td>\n",
       "      <td>1</td>\n",
       "      <td>536457600.0</td>\n",
       "      <td>125</td>\n",
       "      <td>2</td>\n",
       "      <td>45</td>\n",
       "      <td>1</td>\n",
       "    </tr>\n",
       "    <tr>\n",
       "      <th>3</th>\n",
       "      <td>1</td>\n",
       "      <td>5</td>\n",
       "      <td>1</td>\n",
       "      <td>880934400.0</td>\n",
       "      <td>161</td>\n",
       "      <td>2</td>\n",
       "      <td>55</td>\n",
       "      <td>1</td>\n",
       "    </tr>\n",
       "    <tr>\n",
       "      <th>4</th>\n",
       "      <td>1</td>\n",
       "      <td>5</td>\n",
       "      <td>1</td>\n",
       "      <td>959817600.0</td>\n",
       "      <td>161</td>\n",
       "      <td>3</td>\n",
       "      <td>58</td>\n",
       "      <td>1</td>\n",
       "    </tr>\n",
       "  </tbody>\n",
       "</table>\n",
       "</div>"
      ],
      "text/plain": [
       "   idcentro  idana  sesso   datavisita  rappresentantevisita  numeroeventi  \\\n",
       "0         1      5      1  315532800.0                   161             1   \n",
       "1         1      5      1  504921600.0                   161             1   \n",
       "2         1      5      1  536457600.0                   125             2   \n",
       "3         1      5      1  880934400.0                   161             2   \n",
       "4         1      5      1  959817600.0                   161             3   \n",
       "\n",
       "   etavisita  label  \n",
       "0         38      1  \n",
       "1         44      1  \n",
       "2         45      1  \n",
       "3         55      1  \n",
       "4         58      1  "
      ]
     },
     "execution_count": 17,
     "metadata": {},
     "output_type": "execute_result"
    }
   ],
   "source": [
    "dataset_df = dataset_df[['idcentro', 'idana', 'sesso', 'datavisita', 'rappresentantevisita', 'numeroeventi', 'etavisita', 'label']]\n",
    "dataset_df.head()"
   ]
  },
  {
   "cell_type": "code",
   "execution_count": 18,
   "metadata": {},
   "outputs": [],
   "source": [
    "#save the dataframe of task3 in a new file csv\n",
    "dataset_df.to_csv(path+'t3_df.csv', mode='w', header=True, index=False)"
   ]
  },
  {
   "attachments": {},
   "cell_type": "markdown",
   "metadata": {},
   "source": [
    "## 1.2 Evaluation of the dataset\n",
    "\n",
    "Evaluate the dataset over a T-LSTM"
   ]
  },
  {
   "cell_type": "code",
   "execution_count": 19,
   "metadata": {},
   "outputs": [],
   "source": [
    "features = dataset_df.drop(\"label\", axis=1)\n",
    "label = dataset_df[\"label\"]"
   ]
  },
  {
   "cell_type": "code",
   "execution_count": 20,
   "metadata": {},
   "outputs": [],
   "source": [
    "scaler = StandardScaler()\n",
    "#Calculates normalisation parameters (mean and standard deviation) on training features,\n",
    "#Transforms training and test features according to these parameters.\n",
    "features[features.columns[:]] = scaler.fit_transform(features[features.columns[:]])"
   ]
  },
  {
   "cell_type": "code",
   "execution_count": 21,
   "metadata": {},
   "outputs": [],
   "source": [
    "#20% of the data will be used as a test set, where X are sets of features and y are sets of label with random state equal to 17\n",
    "X_train, X_test, y_train, y_test = train_test_split(features, label, test_size=0.2, random_state=17)"
   ]
  },
  {
   "cell_type": "code",
   "execution_count": 22,
   "metadata": {},
   "outputs": [
    {
     "name": "stdout",
     "output_type": "stream",
     "text": [
      "number of test set: 467519\n",
      "number of train set: 1870075\n"
     ]
    }
   ],
   "source": [
    "#transform the training and test data into a structure that can be used as input for an LSTM neural network model\n",
    "X_train = np.reshape(X_train.values, (X_train.shape[0], 1, X_train.shape[1]))\n",
    "X_test = np.reshape(X_test.values, (X_test.shape[0], 1, X_test.shape[1]))\n",
    "print(\"number of test set:\", X_test.shape[0])\n",
    "print(\"number of train set:\", X_train.shape[0])"
   ]
  },
  {
   "cell_type": "code",
   "execution_count": 23,
   "metadata": {},
   "outputs": [],
   "source": [
    "model = Sequential()\n",
    "model.add(LSTM(32, input_shape=(X_train.shape[1], X_train.shape[2])))\n",
    "#adds a dense (fully connected) structure to the model which has only one unit and uses the sigmoid as activation function\n",
    "model.add(Dense(1, activation=\"sigmoid\"))"
   ]
  },
  {
   "cell_type": "code",
   "execution_count": 24,
   "metadata": {},
   "outputs": [],
   "source": [
    "model.compile(loss=\"binary_crossentropy\", optimizer=\"adam\", metrics=[\"accuracy\"])"
   ]
  },
  {
   "cell_type": "code",
   "execution_count": 25,
   "metadata": {},
   "outputs": [
    {
     "name": "stderr",
     "output_type": "stream",
     "text": [
      "2023-02-09 19:55:06.604896: W tensorflow/tsl/platform/profile_utils/cpu_utils.cc:128] Failed to get CPU frequency: 0 Hz\n"
     ]
    },
    {
     "name": "stdout",
     "output_type": "stream",
     "text": [
      "116880/116880 [==============================] - 96s 809us/step - loss: 0.3154 - accuracy: 0.8693 - val_loss: 0.3128 - val_accuracy: 0.8692\n"
     ]
    }
   ],
   "source": [
    "history = model.fit(X_train, y_train, epochs=1, batch_size=16, validation_data=(X_test, y_test))"
   ]
  },
  {
   "cell_type": "code",
   "execution_count": 26,
   "metadata": {},
   "outputs": [
    {
     "name": "stdout",
     "output_type": "stream",
     "text": [
      "Accuracy: 86.92%\n"
     ]
    }
   ],
   "source": [
    "_, accuracy = model.evaluate(X_test, y_test, verbose=0)\n",
    "print(\"Accuracy: {:.2f}%\".format(accuracy * 100))"
   ]
  },
  {
   "cell_type": "code",
   "execution_count": 27,
   "metadata": {},
   "outputs": [],
   "source": [
    "model.save(path+'Model_Task3_LSTM.h5')"
   ]
  },
  {
   "cell_type": "markdown",
   "metadata": {},
   "source": [
    "### test prediction"
   ]
  },
  {
   "cell_type": "code",
   "execution_count": 43,
   "metadata": {},
   "outputs": [],
   "source": [
    "t3_model = load_model(path+'Model_Task3_LSTM.h5')\n",
    "# do this if you wanto to load the previously trained model"
   ]
  },
  {
   "cell_type": "code",
   "execution_count": 44,
   "metadata": {},
   "outputs": [
    {
     "name": "stdout",
     "output_type": "stream",
     "text": [
      "14610/14610 [==============================] - 5s 342us/step\n"
     ]
    }
   ],
   "source": [
    "y_pred = t3_model.predict(X_test)"
   ]
  },
  {
   "cell_type": "code",
   "execution_count": 45,
   "metadata": {},
   "outputs": [],
   "source": [
    "y_pred_binary = (y_pred > 0.5).astype(int)"
   ]
  },
  {
   "cell_type": "code",
   "execution_count": 46,
   "metadata": {},
   "outputs": [
    {
     "name": "stdout",
     "output_type": "stream",
     "text": [
      "F-Score: 0.85\n"
     ]
    }
   ],
   "source": [
    "f_score = f1_score(y_test, y_pred_binary)\n",
    "print(\"F-Score: {:.2f}\".format(f_score))"
   ]
  },
  {
   "cell_type": "code",
   "execution_count": 47,
   "metadata": {},
   "outputs": [
    {
     "name": "stdout",
     "output_type": "stream",
     "text": [
      "Confusion Matrix:\n",
      " [[227719    676]\n",
      " [ 60481 178643]]\n"
     ]
    }
   ],
   "source": [
    "conf_matrix = confusion_matrix(y_test, y_pred_binary)\n",
    "print(\"Confusion Matrix:\\n\", conf_matrix)"
   ]
  },
  {
   "attachments": {},
   "cell_type": "markdown",
   "metadata": {},
   "source": [
    "## 1.3 Bayesian Optimization\n",
    "\n",
    "Optimisation of neurons and learning rate"
   ]
  },
  {
   "cell_type": "code",
   "execution_count": 34,
   "metadata": {},
   "outputs": [
    {
     "name": "stdout",
     "output_type": "stream",
     "text": [
      "|   iter    |  target   | learni... |  neurons  |\n",
      "-------------------------------------------------\n",
      "58440/58440 [==============================] - 47s 785us/step - loss: 0.3165 - accuracy: 0.8689\n",
      "| \u001b[0m1        \u001b[0m | \u001b[0m0.8693   \u001b[0m | \u001b[0m0.004272 \u001b[0m | \u001b[0m35.67    \u001b[0m |\n",
      "58440/58440 [==============================] - 48s 791us/step - loss: 0.3165 - accuracy: 0.8693\n",
      "| \u001b[95m2        \u001b[0m | \u001b[95m0.8694   \u001b[0m | \u001b[95m0.004551 \u001b[0m | \u001b[95m30.62    \u001b[0m |\n",
      "58440/58440 [==============================] - 43s 719us/step - loss: 0.3166 - accuracy: 0.8692\n",
      "| \u001b[0m3        \u001b[0m | \u001b[0m0.8693   \u001b[0m | \u001b[0m0.004712 \u001b[0m | \u001b[0m31.26    \u001b[0m |\n",
      "58440/58440 [==============================] - 43s 727us/step - loss: 0.3165 - accuracy: 0.8692\n",
      "| \u001b[95m4        \u001b[0m | \u001b[95m0.8694   \u001b[0m | \u001b[95m0.001292 \u001b[0m | \u001b[95m37.47    \u001b[0m |\n",
      "58440/58440 [==============================] - 43s 719us/step - loss: 0.3165 - accuracy: 0.8691\n",
      "| \u001b[0m5        \u001b[0m | \u001b[0m0.8692   \u001b[0m | \u001b[0m0.004234 \u001b[0m | \u001b[0m36.17    \u001b[0m |\n",
      "58440/58440 [==============================] - 43s 725us/step - loss: 0.3168 - accuracy: 0.8690\n",
      "| \u001b[0m6        \u001b[0m | \u001b[0m0.8693   \u001b[0m | \u001b[0m0.001071 \u001b[0m | \u001b[0m37.83    \u001b[0m |\n",
      "58440/58440 [==============================] - 42s 710us/step - loss: 0.3168 - accuracy: 0.8692\n",
      "| \u001b[0m7        \u001b[0m | \u001b[0m0.8692   \u001b[0m | \u001b[0m0.00188  \u001b[0m | \u001b[0m30.6     \u001b[0m |\n",
      "58440/58440 [==============================] - 47s 786us/step - loss: 0.3167 - accuracy: 0.8693\n",
      "| \u001b[0m8        \u001b[0m | \u001b[0m0.8693   \u001b[0m | \u001b[0m0.001858 \u001b[0m | \u001b[0m38.71    \u001b[0m |\n",
      "58440/58440 [==============================] - 43s 719us/step - loss: 0.3167 - accuracy: 0.8690\n",
      "| \u001b[0m9        \u001b[0m | \u001b[0m0.8693   \u001b[0m | \u001b[0m0.004692 \u001b[0m | \u001b[0m33.84    \u001b[0m |\n",
      "58440/58440 [==============================] - 44s 734us/step - loss: 0.3166 - accuracy: 0.8693\n",
      "| \u001b[0m10       \u001b[0m | \u001b[0m0.8692   \u001b[0m | \u001b[0m0.003205 \u001b[0m | \u001b[0m39.02    \u001b[0m |\n",
      "58440/58440 [==============================] - 43s 723us/step - loss: 0.3167 - accuracy: 0.8693\n",
      "| \u001b[0m11       \u001b[0m | \u001b[0m0.8693   \u001b[0m | \u001b[0m0.002602 \u001b[0m | \u001b[0m36.9     \u001b[0m |\n",
      "58440/58440 [==============================] - 43s 716us/step - loss: 0.3167 - accuracy: 0.8691\n",
      "| \u001b[0m12       \u001b[0m | \u001b[0m0.8692   \u001b[0m | \u001b[0m0.003116 \u001b[0m | \u001b[0m32.92    \u001b[0m |\n",
      "58440/58440 [==============================] - 43s 719us/step - loss: 0.3169 - accuracy: 0.8690\n",
      "| \u001b[0m13       \u001b[0m | \u001b[0m0.8692   \u001b[0m | \u001b[0m0.002951 \u001b[0m | \u001b[0m33.1     \u001b[0m |\n",
      "58440/58440 [==============================] - 43s 718us/step - loss: 0.3166 - accuracy: 0.8693\n",
      "| \u001b[0m14       \u001b[0m | \u001b[0m0.8693   \u001b[0m | \u001b[0m0.002366 \u001b[0m | \u001b[0m31.16    \u001b[0m |\n",
      "58440/58440 [==============================] - 43s 721us/step - loss: 0.3167 - accuracy: 0.8690\n",
      "| \u001b[0m15       \u001b[0m | \u001b[0m0.8691   \u001b[0m | \u001b[0m0.003946 \u001b[0m | \u001b[0m35.82    \u001b[0m |\n",
      "=================================================\n"
     ]
    }
   ],
   "source": [
    "def create_model(neurons=32, learning_rate=0.001):\n",
    "    \"\"\"\n",
    "    The function creates a sequential model, then adds an LSTM layer \n",
    "    and a dense layer with a single neuron and sigmoid as activation \n",
    "    function to it. The layer has 'neurons' number of neurons. The model\n",
    "    is then compiled using the binary cross-entropy loss function,\n",
    "    the Adam optimizer and accuracy as metrics.\n",
    "\n",
    "    Parameters\n",
    "    ----------\n",
    "    neurons : int\n",
    "      represents the number of neurons in layer\n",
    "    learning_rate : float\n",
    "      represents the learning rate of optimizer\n",
    "\n",
    "    Returns\n",
    "    -------\n",
    "    model\n",
    "    \"\"\"\n",
    "    model = Sequential()\n",
    "    model.add(LSTM(neurons, input_shape=(X_train.shape[1], X_train.shape[2])))\n",
    "    model.add(Dense(1, activation=\"sigmoid\"))\n",
    "    model.compile(loss=\"binary_crossentropy\", optimizer=\"adam\", metrics=[\"accuracy\"])\n",
    "    return model\n",
    "\n",
    "\n",
    "def hyperparameter_tuning(neurons, learning_rate):\n",
    "    \"\"\"\n",
    "    The function performs hyperparameter tuning on the model created by\n",
    "    the function 'create_model'. The model is fit to the training data.\n",
    "\n",
    "    Parameters\n",
    "    ----------\n",
    "    neurons : int\n",
    "      represents the number of neurons in layer\n",
    "    learning_rate : float\n",
    "      represents the learning rate of optimizer\n",
    "\n",
    "    Returns\n",
    "    -------\n",
    "    Accuracy of the model \n",
    "      given the test set evaluate the accuracy\n",
    "    \"\"\"\n",
    "    neurons = int(neurons)\n",
    "    model = create_model(neurons, learning_rate)\n",
    "    model.fit(X_train, y_train)\n",
    "    return model.evaluate(X_test, y_test, verbose=0)[1]\n",
    "\n",
    "#perform Bayesian Optimization on 'hyperparameter_tuning' function, the optimization is performed\n",
    "#with respect to hyperparameter, neurons and learning rate\n",
    "optimizer = BayesianOptimization(f=hyperparameter_tuning, pbounds={\"neurons\": (30, 40), \"learning_rate\": (0.001, 0.005)})\n",
    "#init_points specifies the number of initial random points to sample, n_iter specifies \n",
    "#number of Bayesian optimization iteration to perform after the initial random points have been evaluated.\n",
    "optimizer.maximize(init_points=5, n_iter=10)\n",
    "#run 'hyperparameter_tuning' function with different combinations of hyperparameters to find the optimal \n",
    "#values that give the best accuracy on the test data."
   ]
  },
  {
   "cell_type": "code",
   "execution_count": 35,
   "metadata": {},
   "outputs": [
    {
     "name": "stdout",
     "output_type": "stream",
     "text": [
      "best parameters settings: {'learning_rate': 0.0012919876196129017, 'neurons': 37.473873835762035}\n"
     ]
    }
   ],
   "source": [
    "print('best parameters settings: {}'.format(optimizer.max['params']))"
   ]
  },
  {
   "cell_type": "code",
   "execution_count": 36,
   "metadata": {},
   "outputs": [],
   "source": [
    "params = optimizer.max['params']\n",
    "neurons = int(params['neurons'])\n",
    "lr = params['learning_rate']\n",
    "best_model = create_model(neurons)"
   ]
  },
  {
   "cell_type": "code",
   "execution_count": 37,
   "metadata": {},
   "outputs": [],
   "source": [
    "best_model.save(path+'Best_Model_nlr.h5') #save model with neurons and learning_rate"
   ]
  },
  {
   "cell_type": "markdown",
   "metadata": {},
   "source": [
    "### test prediction"
   ]
  },
  {
   "cell_type": "code",
   "execution_count": 38,
   "metadata": {},
   "outputs": [],
   "source": [
    "best_model = load_model(path+'Best_Model_nlr.h5')\n",
    "#if you want to load the trained model"
   ]
  },
  {
   "cell_type": "code",
   "execution_count": 39,
   "metadata": {},
   "outputs": [
    {
     "name": "stdout",
     "output_type": "stream",
     "text": [
      "14610/14610 [==============================] - 6s 330us/step\n"
     ]
    }
   ],
   "source": [
    "y_pred = best_model.predict(X_test)"
   ]
  },
  {
   "cell_type": "code",
   "execution_count": 40,
   "metadata": {},
   "outputs": [],
   "source": [
    "y_pred_binary = (y_pred > 0.5).astype(int)"
   ]
  },
  {
   "cell_type": "code",
   "execution_count": 41,
   "metadata": {},
   "outputs": [
    {
     "name": "stdout",
     "output_type": "stream",
     "text": [
      "F-Score: 0.51\n"
     ]
    }
   ],
   "source": [
    "f_score = f1_score(y_test, y_pred_binary)\n",
    "print(\"F-Score: {:.2f}\".format(f_score))"
   ]
  },
  {
   "cell_type": "code",
   "execution_count": 42,
   "metadata": {},
   "outputs": [
    {
     "name": "stdout",
     "output_type": "stream",
     "text": [
      "Confusion Matrix:\n",
      " [[ 95807 132588]\n",
      " [112081 127043]]\n"
     ]
    }
   ],
   "source": [
    "'''\n",
    "[[true negative, false positive]\n",
    "[false negative, true positive]]\n",
    "'''\n",
    "conf_matrix = confusion_matrix(y_test, y_pred_binary)\n",
    "print(\"Confusion Matrix:\\n\", conf_matrix)"
   ]
  }
 ],
 "metadata": {
  "kernelspec": {
   "display_name": "Python 3",
   "language": "python",
   "name": "python3"
  },
  "language_info": {
   "codemirror_mode": {
    "name": "ipython",
    "version": 3
   },
   "file_extension": ".py",
   "mimetype": "text/x-python",
   "name": "python",
   "nbconvert_exporter": "python",
   "pygments_lexer": "ipython3",
   "version": "3.10.9"
  },
  "orig_nbformat": 4,
  "vscode": {
   "interpreter": {
    "hash": "aee8b7b246df8f9039afb4144a1f6fd8d2ca17a180786b69acc140d282b71a49"
   }
  }
 },
 "nbformat": 4,
 "nbformat_minor": 2
}
