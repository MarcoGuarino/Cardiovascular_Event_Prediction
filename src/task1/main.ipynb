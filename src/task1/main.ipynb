{
  "cells": [
    {
      "attachments": {},
      "cell_type": "markdown",
      "metadata": {
        "id": "ySAU3epzhewF"
      },
      "source": [
        "## Pre-processing (Task 1)"
      ]
    },
    {
      "attachments": {},
      "cell_type": "markdown",
      "metadata": {
        "id": "j5a2wFUpnK2p"
      },
      "source": [
        "Import the utility libraries"
      ]
    },
    {
      "cell_type": "code",
      "execution_count": 2,
      "metadata": {
        "id": "VKJ4myn6nOUP"
      },
      "outputs": [],
      "source": [
        "import pandas as pd\n",
        "import math\n",
        "from datetime import datetime\n",
        "from matplotlib.pyplot import pie, show\n",
        "import numpy as np"
      ]
    },
    {
      "cell_type": "code",
      "execution_count": 3,
      "metadata": {},
      "outputs": [],
      "source": [
        "path = \"\"\n",
        "#insert the path of the directory in which the CSVs are stored"
      ]
    },
    {
      "cell_type": "code",
      "execution_count": 4,
      "metadata": {
        "id": "AEJhv6XDQBwB"
      },
      "outputs": [],
      "source": [
        "def getClassDistribution(patientsBefore, patientsAfter):\n",
        "  \"\"\"\n",
        "  The function takes account of the class distribution's\n",
        "  computation.\n",
        "\n",
        "  Parameters\n",
        "  ----------\n",
        "  patientsBefore : int\n",
        "      represents the number of active patients before the\n",
        "      filter of the dataset\n",
        "  patientsAfter : int\n",
        "      represents the number of active patients after the\n",
        "      filter of the dataset\n",
        "\n",
        "  Returns\n",
        "  -------\n",
        "  float\n",
        "      the percentage of active patients rounded to the\n",
        "      second decimal digit\n",
        "  \"\"\"\n",
        "  return round((patientsAfter/patientsBefore)*100, 2)"
      ]
    },
    {
      "cell_type": "code",
      "execution_count": 5,
      "metadata": {
        "id": "-SCCXj2RRezv"
      },
      "outputs": [],
      "source": [
        "def printDistribution(step_n0, step_n1):\n",
        "  \"\"\"\n",
        "  The utility function prints the information about the\n",
        "  class distribution.\n",
        "  Specifically the function prints:\n",
        "  - The amount of active patients before the dataset filter\n",
        "  - The amount of active patients after the dataset filter\n",
        "  - The percentage of patients of interest (computed on the base\n",
        "  of the number of the active patients in a specific moment of the\n",
        "  inspection of the dataset)\n",
        "  - The percentage of patients discarded (computed on the base\n",
        "  of the number of the active patients in a specific moment of the\n",
        "  inspection of the dataset).\n",
        "  \n",
        "  Show a pie chart about the distribution of patients.\n",
        "\n",
        "  Parameters\n",
        "  ----------\n",
        "  step_n0 : int\n",
        "      represents the number of active patients before the\n",
        "      filter of the dataset; mind that the name 'step_n0'\n",
        "      and 'step_n1' is given to remember that the function\n",
        "      always need the number of patients before a filter \n",
        "      and the number of patients right after the filter\n",
        "  step_n1 : int\n",
        "      represents the number of active patients after the\n",
        "      filter of the dataset; mind that the name 'step_n0'\n",
        "      and 'step_n1' is given to remember that the function\n",
        "      always need the number of patients before a filter \n",
        "      and the number of patients right after the filter\n",
        "  \"\"\"\n",
        "  patientsOfInterest = getClassDistribution(step_n0, step_n1)\n",
        "  patientsDiscarded = round(100-patientsOfInterest, 2)\n",
        "  print(\"Starting Patients:\", step_n0)\n",
        "  print(\"Remaining Patients:\", step_n1)\n",
        "  print(\"Patients of Interest:\", patientsOfInterest, \"%\")\n",
        "  print(\"Patients Discarded:\", patientsDiscarded, \"%\")\n",
        "  labels = [\"Patients of Interest\", \"Patients Discarded\"] \n",
        "  pie([patientsOfInterest, patientsDiscarded], labels = labels, autopct = '%1.1f%%')\n",
        "  show()"
      ]
    },
    {
      "cell_type": "code",
      "execution_count": 6,
      "metadata": {
        "id": "PbuUoNTMSFI9"
      },
      "outputs": [],
      "source": [
        "def filterDataFrame(target_df, activePatients_df):\n",
        "  \"\"\"\n",
        "  The function performs the filtering of a dataframe.\n",
        "  Specifically the function combines the two dataframes \n",
        "  based on the columns 'idcentro' and 'idana', i.e. only\n",
        "  rows with matches in the two dataframes will be returned.\n",
        "\n",
        "  Parameters\n",
        "  ----------\n",
        "  target_df : DataFrame\n",
        "      represents the dataframe on which the function performs\n",
        "      the search\n",
        "  activePatients_df : DataFrame\n",
        "      represents the the dataframe of the active patients \n",
        "      with the 'idcentro', 'idana' after the perfomance of searching\n",
        "\n",
        "  Returns\n",
        "  -------\n",
        "  df\n",
        "      a new dataframe representing the intersection of the two initial dataframes.\n",
        "  \"\"\"\n",
        "  return pd.merge(target_df, activePatients_df, on=['idcentro', 'idana'], how='inner')"
      ]
    },
    {
      "attachments": {},
      "cell_type": "markdown",
      "metadata": {
        "id": "Z6Q7UBjXirUE"
      },
      "source": [
        "## 1. Select event of interest\n",
        "\n",
        "Retain only patients with **at least one cardiovascular event** in their history.\n",
        "\n",
        "The cardiovascular events considered are *MACRO Cardiovascular events* which are the following:\n",
        "* AMD047: Myocardial infraction\n",
        "* AMD048: Coronary angioplasty\n",
        "* AMD049: Coronary bypass\n",
        "* AMD071: Ictus\n",
        "* AMD081: Lower limb angioplasty\n",
        "* AMD082: Peripheral By-pass Lower Limbs\n",
        "* AMD208: Revascularization of intracranial and neck vessels\n",
        "* AMD303: Ischemic stroke"
      ]
    },
    {
      "cell_type": "code",
      "execution_count": 7,
      "metadata": {},
      "outputs": [],
      "source": [
        "codes = ['AMD047', 'AMD048', 'AMD049', 'AMD071', 'AMD081', 'AMD082', 'AMD208', 'AMD303']"
      ]
    },
    {
      "cell_type": "code",
      "execution_count": 8,
      "metadata": {
        "id": "0idwc3rmh_qJ"
      },
      "outputs": [
        {
          "data": {
            "text/plain": [
              "(4427337, 5)"
            ]
          },
          "execution_count": 8,
          "metadata": {},
          "output_type": "execute_result"
        }
      ],
      "source": [
        "#upload diagnosi.csv dropping the first 'Unnamed' column and the duplicate rows\n",
        "diagnosi_df = pd.read_csv(path+'diagnosi.csv')\n",
        "\n",
        "diagnosi_df = diagnosi_df.drop(columns=diagnosi_df.columns[0], \n",
        "        axis=1)\n",
        "\n",
        "diagnosi_df = diagnosi_df.drop_duplicates(keep='first').reset_index(drop=True)\n",
        "\n",
        "diagnosi_df.shape"
      ]
    },
    {
      "cell_type": "code",
      "execution_count": 9,
      "metadata": {
        "id": "nlmdKoahVI25"
      },
      "outputs": [],
      "source": [
        "tmp_df = diagnosi_df[diagnosi_df['codiceamd'].isin(codes)]\n",
        "tmp_df = tmp_df[['idcentro', 'idana']]\n",
        "activePatients_df = tmp_df.drop_duplicates().reset_index(drop=True)"
      ]
    },
    {
      "cell_type": "code",
      "execution_count": 10,
      "metadata": {
        "colab": {
          "base_uri": "https://localhost:8080/",
          "height": 204
        },
        "id": "hDyhIBEKcYOE",
        "outputId": "07a124bd-20c6-40e0-9224-7526b36c9bac"
      },
      "outputs": [
        {
          "data": {
            "text/html": [
              "<div>\n",
              "<style scoped>\n",
              "    .dataframe tbody tr th:only-of-type {\n",
              "        vertical-align: middle;\n",
              "    }\n",
              "\n",
              "    .dataframe tbody tr th {\n",
              "        vertical-align: top;\n",
              "    }\n",
              "\n",
              "    .dataframe thead th {\n",
              "        text-align: right;\n",
              "    }\n",
              "</style>\n",
              "<table border=\"1\" class=\"dataframe\">\n",
              "  <thead>\n",
              "    <tr style=\"text-align: right;\">\n",
              "      <th></th>\n",
              "      <th>idcentro</th>\n",
              "      <th>idana</th>\n",
              "    </tr>\n",
              "  </thead>\n",
              "  <tbody>\n",
              "    <tr>\n",
              "      <th>0</th>\n",
              "      <td>1</td>\n",
              "      <td>5</td>\n",
              "    </tr>\n",
              "    <tr>\n",
              "      <th>1</th>\n",
              "      <td>1</td>\n",
              "      <td>36</td>\n",
              "    </tr>\n",
              "    <tr>\n",
              "      <th>2</th>\n",
              "      <td>1</td>\n",
              "      <td>38</td>\n",
              "    </tr>\n",
              "    <tr>\n",
              "      <th>3</th>\n",
              "      <td>1</td>\n",
              "      <td>61</td>\n",
              "    </tr>\n",
              "    <tr>\n",
              "      <th>4</th>\n",
              "      <td>1</td>\n",
              "      <td>65</td>\n",
              "    </tr>\n",
              "  </tbody>\n",
              "</table>\n",
              "</div>"
            ],
            "text/plain": [
              "   idcentro  idana\n",
              "0         1      5\n",
              "1         1     36\n",
              "2         1     38\n",
              "3         1     61\n",
              "4         1     65"
            ]
          },
          "execution_count": 10,
          "metadata": {},
          "output_type": "execute_result"
        }
      ],
      "source": [
        "activePatients_df.head()"
      ]
    },
    {
      "cell_type": "code",
      "execution_count": 11,
      "metadata": {
        "id": "JCj27z4v7Lfd"
      },
      "outputs": [],
      "source": [
        "diagnosi_df = filterDataFrame(diagnosi_df, activePatients_df)"
      ]
    },
    {
      "cell_type": "code",
      "execution_count": 12,
      "metadata": {
        "id": "GRkNObVAI8ly"
      },
      "outputs": [],
      "source": [
        "#after uploading of anagraficapazientiattivi.csv, we drop some features which are not relevant for the project\n",
        "anagrafica_df = pd.read_csv(path+'anagraficapazientiattivi.csv')\n",
        "\n",
        "anagrafica_df = anagrafica_df.drop(columns=anagrafica_df.columns[0], \n",
        "        axis=1)\n",
        "\n",
        "anagrafica_df = anagrafica_df.drop(columns=['scolarita', 'statocivile', 'professione', 'origine', 'annoprimoaccesso'], \n",
        "        axis=1)\n",
        "\n",
        "anagrafica_df = anagrafica_df.drop_duplicates().reset_index(drop=True)"
      ]
    },
    {
      "cell_type": "code",
      "execution_count": 13,
      "metadata": {
        "id": "KfHwKAeIM2F3"
      },
      "outputs": [],
      "source": [
        "step_0 = anagrafica_df.shape[0]"
      ]
    },
    {
      "cell_type": "code",
      "execution_count": 14,
      "metadata": {
        "id": "b5vg0bbQUZ8w"
      },
      "outputs": [],
      "source": [
        "anagrafica_df = filterDataFrame(anagrafica_df, activePatients_df)"
      ]
    },
    {
      "cell_type": "code",
      "execution_count": 15,
      "metadata": {
        "colab": {
          "base_uri": "https://localhost:8080/",
          "height": 316
        },
        "id": "UmvrszimeUbG",
        "outputId": "d5cac616-ce76-4a8c-885f-a731463576f5"
      },
      "outputs": [
        {
          "name": "stdout",
          "output_type": "stream",
          "text": [
            "Starting Patients: 250000\n",
            "Remaining Patients: 50000\n",
            "Patients of Interest: 20.0 %\n",
            "Patients Discarded: 80.0 %\n"
          ]
        },
        {
          "data": {
            "image/png": "[encoded data removed]",
            "text/plain": [
              "<Figure size 640x480 with 1 Axes>"
            ]
          },
          "metadata": {},
          "output_type": "display_data"
        }
      ],
      "source": [
        "step_1 = anagrafica_df.shape[0]\n",
        "printDistribution(step_0, step_1)"
      ]
    },
    {
      "attachments": {},
      "cell_type": "markdown",
      "metadata": {
        "id": "72_t3ZkGIwvs"
      },
      "source": [
        "## 2. Invalid feature cleaning\n",
        "Clean events with invalid date, like a particular event could not happen \n",
        "before the patient's birth or after his death.\n",
        "\n",
        "Work on the **diagnosi.csv**"
      ]
    },
    {
      "cell_type": "code",
      "execution_count": 16,
      "metadata": {
        "id": "YswTuQjzS-jl"
      },
      "outputs": [],
      "source": [
        "def cleanInvalidFeature(target_df, anagrafica_df):\n",
        "  \"\"\"\n",
        "  The function performs the cleaning of a dataframe\n",
        "  by taking away all the rows that store information\n",
        "  about events whose dates are not valid (either not\n",
        "  present or written as before the birth of the \n",
        "  patient or after the death of the patient) or are nan.\n",
        "  Specifically the function controls if the year of event's\n",
        "  date is bigger than the patient's birth and if his\n",
        "  death is not nan then it checks that the year of event's\n",
        "  date must be smaller than his death.\n",
        "\n",
        "  Parameters\n",
        "  ----------\n",
        "  target_df : DataFrame\n",
        "      represents the dataframe on which the function performs\n",
        "      the search\n",
        "  anagrafica_df : DataFrame\n",
        "      represents the dataframe of patients with their information\n",
        "\n",
        "  Returns\n",
        "  -------\n",
        "  df\n",
        "      the filtered dataframe that contains only the\n",
        "      events with a valid date about the patients of interest\n",
        "  \"\"\"\n",
        "  tmp_df = pd.merge(target_df, anagrafica_df, on=['idcentro', 'idana'], how='inner')\n",
        "  tmp_df = tmp_df[tmp_df['data'].notna()]\n",
        "  #creates columns that are respectively year month and day of the date\n",
        "  tmp_df['dataanno'] = tmp_df['data'].str[:4].astype(int)\n",
        "  tmp_df['datamese'] = tmp_df['data'].str[5:7].astype(int)\n",
        "  tmp_df['datagiorno'] = tmp_df['data'].str[8:].astype(int)\n",
        "  c1 = tmp_df['dataanno']>tmp_df['annonascita']\n",
        "  c2 = tmp_df['dataanno']<tmp_df['annodecesso']\n",
        "  c3 = tmp_df['annodecesso'].isna()\n",
        "  tmp_df = tmp_df[c1 & (c2 | c3)]\n",
        "  tmp_df = tmp_df.drop(columns=['sesso', 'annodiagnosidiabete',\t'tipodiabete', 'annonascita',\t'annodecesso', 'dataanno', 'datamese', 'datagiorno'], \n",
        "        axis=1)\n",
        "  return tmp_df"
      ]
    },
    {
      "cell_type": "code",
      "execution_count": 17,
      "metadata": {
        "id": "L52O89j2VD2y"
      },
      "outputs": [
        {
          "data": {
            "text/plain": [
              "1911704"
            ]
          },
          "execution_count": 17,
          "metadata": {},
          "output_type": "execute_result"
        }
      ],
      "source": [
        "diagnosi_df = cleanInvalidFeature(diagnosi_df, anagrafica_df)\n",
        "diagnosi_df.shape[0]"
      ]
    },
    {
      "cell_type": "code",
      "execution_count": 18,
      "metadata": {
        "id": "rBjGq_kThz_V"
      },
      "outputs": [],
      "source": [
        "tmp_df = diagnosi_df[['idcentro', 'idana']]\n",
        "activePatients_df = tmp_df.drop_duplicates(keep='first').reset_index(drop=True)"
      ]
    },
    {
      "cell_type": "code",
      "execution_count": 19,
      "metadata": {
        "id": "9uyseznbVd5i"
      },
      "outputs": [],
      "source": [
        "anagrafica_df = filterDataFrame(anagrafica_df, activePatients_df)"
      ]
    },
    {
      "cell_type": "code",
      "execution_count": 20,
      "metadata": {
        "colab": {
          "base_uri": "https://localhost:8080/",
          "height": 316
        },
        "id": "MUJg28FzjHfX",
        "outputId": "cff45b35-40c9-4e0a-f5e1-103b9231523a"
      },
      "outputs": [
        {
          "name": "stdout",
          "output_type": "stream",
          "text": [
            "Starting Patients: 50000\n",
            "Remaining Patients: 49912\n",
            "Patients of Interest: 99.82 %\n",
            "Patients Discarded: 0.18 %\n"
          ]
        },
        {
          "data": {
            "image/png": "[encoded data removed]",
            "text/plain": [
              "<Figure size 640x480 with 1 Axes>"
            ]
          },
          "metadata": {},
          "output_type": "display_data"
        }
      ],
      "source": [
        "step_2 = anagrafica_df.shape[0]\n",
        "printDistribution(step_1, step_2)"
      ]
    },
    {
      "attachments": {},
      "cell_type": "markdown",
      "metadata": {},
      "source": [
        "work on the **examinations** tables"
      ]
    },
    {
      "cell_type": "code",
      "execution_count": 21,
      "metadata": {
        "id": "MiC3OeEuo4AW"
      },
      "outputs": [],
      "source": [
        "esamiStrumentali_df = pd.read_csv(path+'esamistrumentali.csv')\n",
        "\n",
        "esamiStrumentali_df = esamiStrumentali_df.drop(columns=esamiStrumentali_df.columns[0], \n",
        "        axis=1)\n",
        "\n",
        "esamiStrumentali_df = esamiStrumentali_df.drop_duplicates().reset_index(drop=True)"
      ]
    },
    {
      "cell_type": "code",
      "execution_count": 22,
      "metadata": {
        "id": "HBqRQluOV5SE"
      },
      "outputs": [],
      "source": [
        "esamiStrumentali_df = cleanInvalidFeature(esamiStrumentali_df, anagrafica_df)"
      ]
    },
    {
      "cell_type": "code",
      "execution_count": 23,
      "metadata": {
        "id": "83Au_a31pioT"
      },
      "outputs": [],
      "source": [
        "esamiLaboratorioParametri_df = pd.read_csv(path+'esamilaboratorioparametri.csv')\n",
        "\n",
        "esamiLaboratorioParametri_df = esamiLaboratorioParametri_df.drop(columns=esamiLaboratorioParametri_df.columns[0], \n",
        "        axis=1)\n",
        "\n",
        "esamiLaboratorioParametri_df = esamiLaboratorioParametri_df.drop_duplicates().reset_index(drop=True)"
      ]
    },
    {
      "cell_type": "code",
      "execution_count": 24,
      "metadata": {
        "id": "PAvpeky4Ptdn"
      },
      "outputs": [],
      "source": [
        "esamiLaboratorioParametri_df = cleanInvalidFeature(esamiLaboratorioParametri_df, anagrafica_df)"
      ]
    },
    {
      "cell_type": "code",
      "execution_count": 25,
      "metadata": {
        "id": "eeJ75bVDp-gI"
      },
      "outputs": [],
      "source": [
        "esamiLaboratorioParametriCalcolati_df = pd.read_csv(path+'esamilaboratorioparametricalcolati.csv')\n",
        "\n",
        "esamiLaboratorioParametriCalcolati_df = esamiLaboratorioParametriCalcolati_df.drop(columns=esamiLaboratorioParametriCalcolati_df.columns[0], \n",
        "        axis=1)\n",
        "\n",
        "esamiLaboratorioParametriCalcolati_df = esamiLaboratorioParametriCalcolati_df.drop_duplicates().reset_index(drop=True)"
      ]
    },
    {
      "cell_type": "code",
      "execution_count": 26,
      "metadata": {
        "id": "GIDcklM7M_4O"
      },
      "outputs": [],
      "source": [
        "esamiLaboratorioParametriCalcolati_df = cleanInvalidFeature(esamiLaboratorioParametriCalcolati_df, anagrafica_df)"
      ]
    },
    {
      "attachments": {},
      "cell_type": "markdown",
      "metadata": {},
      "source": [
        "## 3. Remove patients with all dates in the same month\n",
        "Taking away patients who has short trajectory of examinations and diagnoses, specially if their events are all in one month."
      ]
    },
    {
      "cell_type": "code",
      "execution_count": 27,
      "metadata": {
        "id": "NGbjiTZDl7O1"
      },
      "outputs": [],
      "source": [
        "def filterPatientsEventAllInOneMonth(target_df, activePatients_df):\n",
        "  \"\"\"\n",
        "  The function search for patients whose trajectory is all\n",
        "  condensed in one month.\n",
        "  Specifically for each patients, the function retrieves all\n",
        "  the dates related to the events connected to the patients\n",
        "  and checks if they happened all in one single month. \n",
        "  Specifically the function removes duplicate rows based on the \n",
        "  columns 'idcentro', 'idana', 'dataanno' and 'datamese', then group\n",
        "  the dataframe based on 'idcentro' and 'idana', in this way for each \n",
        "  group count the number of rows. \n",
        "\n",
        "  Parameters\n",
        "  ----------\n",
        "  target_df : DataFrame\n",
        "      represents the dataframe on which the function performs\n",
        "      the search\n",
        "  activePatients : DataFrame\n",
        "      represents the dataframe of the active patients \n",
        "      with the 'idcentro', 'idana' after the perfomance of searching\n",
        "\n",
        "  Returns\n",
        "  -------\n",
        "  df\n",
        "      the dataframe that containes all the patients\n",
        "      whose events happened all in one month\n",
        "  \"\"\"\n",
        "  tmp_df = pd.merge(target_df, activePatients_df, on=['idcentro', 'idana'], how='inner')\n",
        "  tmp_df = tmp_df[tmp_df['data'].notna()]\n",
        "  tmp_df['dataanno'] = tmp_df['data'].str[:4].astype(int)\n",
        "  tmp_df['datamese'] = tmp_df['data'].str[5:7].astype(int)\n",
        "  tmp_df['datagiorno'] = tmp_df['data'].str[8:].astype(int)\n",
        "  tmp_df = tmp_df.drop_duplicates(subset=['idcentro', 'idana', 'dataanno', 'datamese'])\n",
        "  tmp_df = tmp_df.reset_index(drop=True)\n",
        "  tmp_df = tmp_df[['idcentro', 'idana']]\n",
        "  tmp_df = tmp_df.groupby(['idcentro', 'idana']).size().reset_index(name='counts')\n",
        "  c1 = tmp_df['counts'] == 1\n",
        "  tmp_df = tmp_df[c1]\n",
        "  tmp_df = tmp_df.drop(columns=['counts'], axis=1).reset_index(drop=True)\n",
        "  return tmp_df"
      ]
    },
    {
      "cell_type": "code",
      "execution_count": 28,
      "metadata": {
        "id": "t99wOist2_7y"
      },
      "outputs": [],
      "source": [
        "def filterPatientsMonthsTrajectory(diagnosi_df, esamiStrumentali_df, esamiLaboratorioParametri_df, esamiLaboratorioParametriCalcolati_df, activePatients_df):\n",
        "  \"\"\"\n",
        "  The function call the function 'filterPatientsEventAllInOneMonth'\n",
        "  for all 4 input dataframes, then join all filtered dataframes. \n",
        "  Then merge activePatients_df in the left way with the filtered dataframe which contains \n",
        "  ids of patients who have all events in one month, keeping only \n",
        "  ids of patients from the left dataframe, activePatients_df, so in this way\n",
        "  can take away patients came from the filtered dataframe.\n",
        "\n",
        "  Parameters\n",
        "  ----------\n",
        "  diagnosi_df : DataFrame\n",
        "      represents the dataframe of diagnosi\n",
        "  esamiStrumentali_df : DataFrame\n",
        "      represents the dataframe of esami strumentali\n",
        "  esamiLaboratorioParametri_df : DataFrame\n",
        "      represents the dataframe of esami laboratorio parametri\n",
        "  esamiLaboratorioParametriCalcolati_df : DataFrame\n",
        "      represents the dataframe of esami laboratorio parametri calcolati\n",
        "\n",
        "  activePatients : DataFrame\n",
        "      represents the the dataframe of the active patients \n",
        "      with the 'idcentro', 'idana' after the perfomance of searching\n",
        "\n",
        "  Returns\n",
        "  -------\n",
        "  df\n",
        "      the filtered dataframe that contains only the\n",
        "      ids of patiens of interest\n",
        "  \"\"\"\n",
        "  patientsDiagnosiOneMonth_df = filterPatientsEventAllInOneMonth(diagnosi_df, activePatients_df)\n",
        "  patientsEsamiStrumentali_df = filterPatientsEventAllInOneMonth(esamiStrumentali_df, activePatients_df)\n",
        "  patientsEsamiLaboratorioParametri_df = filterPatientsEventAllInOneMonth(esamiLaboratorioParametri_df, activePatients_df)\n",
        "  patientsEsamiLaboratorioParametriCalcolati_df = filterPatientsEventAllInOneMonth(esamiLaboratorioParametriCalcolati_df, activePatients_df)\n",
        "  tmp_df = pd.merge(patientsDiagnosiOneMonth_df, patientsEsamiStrumentali_df, how='inner', on=['idcentro', 'idana'])\n",
        "  tmp_df = pd.merge(tmp_df, patientsEsamiLaboratorioParametri_df, how='inner', on=['idcentro', 'idana'])\n",
        "  tmp_df = pd.merge(tmp_df, patientsEsamiLaboratorioParametriCalcolati_df, how='inner', on=['idcentro', 'idana'])\n",
        "  tmp_df = activePatients_df.merge(tmp_df.drop_duplicates(), on=['idcentro','idana'], \n",
        "                   how='left', indicator=True)\n",
        "  #keep ids just from activePatients_df, not from both df\n",
        "  c1 = tmp_df['_merge'] == 'left_only'\n",
        "  c2 = tmp_df['_merge'] == 'both'\n",
        "  tmp = tmp_df[c2]\n",
        "  tmp_df = tmp_df[c1]\n",
        "  tmp_df = tmp_df.drop(columns=['_merge'], axis=1).reset_index(drop=True)\n",
        "  return tmp_df"
      ]
    },
    {
      "cell_type": "code",
      "execution_count": 29,
      "metadata": {
        "id": "nlCFjAg283fq"
      },
      "outputs": [],
      "source": [
        "activePatients_df = filterPatientsMonthsTrajectory(diagnosi_df, esamiStrumentali_df, esamiLaboratorioParametri_df, esamiLaboratorioParametriCalcolati_df, activePatients_df)"
      ]
    },
    {
      "cell_type": "code",
      "execution_count": 30,
      "metadata": {
        "id": "OwBYAIz0_C1Z"
      },
      "outputs": [],
      "source": [
        "anagrafica_df = filterDataFrame(anagrafica_df, activePatients_df)"
      ]
    },
    {
      "cell_type": "code",
      "execution_count": 31,
      "metadata": {
        "colab": {
          "base_uri": "https://localhost:8080/",
          "height": 316
        },
        "id": "WWcJ1fCAcPtS",
        "outputId": "80309eab-2896-416c-db08-104a0eb60884"
      },
      "outputs": [
        {
          "name": "stdout",
          "output_type": "stream",
          "text": [
            "Starting Patients: 49912\n",
            "Remaining Patients: 49590\n",
            "Patients of Interest: 99.35 %\n",
            "Patients Discarded: 0.65 %\n"
          ]
        },
        {
          "data": {
            "image/png": "[encoded data removed]",
            "text/plain": [
              "<Figure size 640x480 with 1 Axes>"
            ]
          },
          "metadata": {},
          "output_type": "display_data"
        }
      ],
      "source": [
        "step_3 = anagrafica_df.shape[0]\n",
        "printDistribution(step_2, step_3)"
      ]
    },
    {
      "attachments": {},
      "cell_type": "markdown",
      "metadata": {},
      "source": [
        "clean invalid feature on **prescrizioni** table"
      ]
    },
    {
      "cell_type": "code",
      "execution_count": 32,
      "metadata": {
        "id": "_6Bo8ssxndC6"
      },
      "outputs": [],
      "source": [
        "prescrDNF_df = pd.read_csv(path+'prescrizionidiabetenonfarmaci.csv')\n",
        "\n",
        "prescrDNF_df = prescrDNF_df.drop(columns=prescrDNF_df.columns[0], \n",
        "        axis=1)\n",
        "\n",
        "prescrDNF_df = prescrDNF_df.drop_duplicates().reset_index(drop=True)"
      ]
    },
    {
      "cell_type": "code",
      "execution_count": 33,
      "metadata": {
        "id": "MeANaxu67iNj"
      },
      "outputs": [],
      "source": [
        "prescrDNF_df = filterDataFrame(prescrDNF_df, activePatients_df)"
      ]
    },
    {
      "cell_type": "code",
      "execution_count": 34,
      "metadata": {
        "id": "QJUsuZdAi1G8"
      },
      "outputs": [],
      "source": [
        "prescrDNF_df = cleanInvalidFeature(prescrDNF_df, anagrafica_df)"
      ]
    },
    {
      "cell_type": "code",
      "execution_count": 35,
      "metadata": {
        "id": "CNCnBZy17lBP"
      },
      "outputs": [],
      "source": [
        "activePatients = prescrDNF_df[['idcentro', 'idana']]\n",
        "activePatients = activePatients.drop_duplicates(keep='first').reset_index(drop=True)"
      ]
    },
    {
      "cell_type": "code",
      "execution_count": 36,
      "metadata": {
        "id": "dnZHQim1X56t"
      },
      "outputs": [],
      "source": [
        "prescrDNF_df = filterDataFrame(prescrDNF_df, activePatients_df)"
      ]
    },
    {
      "cell_type": "code",
      "execution_count": 37,
      "metadata": {
        "id": "zxMKVVE-n_1o"
      },
      "outputs": [],
      "source": [
        "prescrDF_df = pd.read_csv(path+'prescrizionidiabetefarmaci.csv')\n",
        "\n",
        "prescrDF_df = prescrDF_df.drop(columns=prescrDF_df.columns[0], \n",
        "        axis=1)\n",
        "\n",
        "prescrDF_df = prescrDF_df.drop_duplicates().reset_index(drop=True)"
      ]
    },
    {
      "cell_type": "code",
      "execution_count": 38,
      "metadata": {
        "id": "BDdMROiE7-Zg"
      },
      "outputs": [],
      "source": [
        "prescrDF_df = filterDataFrame(prescrDF_df, activePatients_df)"
      ]
    },
    {
      "cell_type": "code",
      "execution_count": 39,
      "metadata": {
        "id": "6VlSfRgFjacx"
      },
      "outputs": [],
      "source": [
        "prescrDF_df = cleanInvalidFeature(prescrDF_df, anagrafica_df)"
      ]
    },
    {
      "cell_type": "code",
      "execution_count": 40,
      "metadata": {
        "id": "vGzJOE8Z8EIl"
      },
      "outputs": [],
      "source": [
        "activePatients = prescrDF_df[['idcentro', 'idana']]\n",
        "activePatients = activePatients.drop_duplicates(keep='first').reset_index(drop=True)"
      ]
    },
    {
      "cell_type": "code",
      "execution_count": 41,
      "metadata": {
        "id": "MRwpiRvIX8J6"
      },
      "outputs": [],
      "source": [
        "prescrDF_df = filterDataFrame(prescrDF_df, activePatients_df)"
      ]
    },
    {
      "cell_type": "code",
      "execution_count": 42,
      "metadata": {
        "id": "5CDAdi_9oXNo"
      },
      "outputs": [],
      "source": [
        "prescrND_df = pd.read_csv(path+'prescrizioninondiabete.csv')\n",
        "\n",
        "prescrND_df = prescrND_df.drop(columns=prescrND_df.columns[0], \n",
        "        axis=1)\n",
        "\n",
        "prescrND_df = prescrND_df.drop_duplicates().reset_index(drop=True)"
      ]
    },
    {
      "cell_type": "code",
      "execution_count": 43,
      "metadata": {
        "id": "xqTZ64578I9A"
      },
      "outputs": [],
      "source": [
        "prescrND_df = filterDataFrame(prescrND_df, activePatients_df)"
      ]
    },
    {
      "cell_type": "code",
      "execution_count": 44,
      "metadata": {
        "id": "lO7DujTIjok_"
      },
      "outputs": [],
      "source": [
        "prescrND_df = cleanInvalidFeature(prescrND_df, anagrafica_df)"
      ]
    },
    {
      "cell_type": "code",
      "execution_count": 45,
      "metadata": {
        "id": "eDqMJ4TJ8K_t"
      },
      "outputs": [],
      "source": [
        "activePatients = prescrND_df[['idcentro', 'idana']]\n",
        "activePatients = activePatients.drop_duplicates(keep='first').reset_index(drop=True)"
      ]
    },
    {
      "cell_type": "code",
      "execution_count": 46,
      "metadata": {
        "id": "VDbp630TYgOc"
      },
      "outputs": [],
      "source": [
        "prescrND_df = filterDataFrame(prescrND_df, activePatients_df)"
      ]
    },
    {
      "attachments": {},
      "cell_type": "markdown",
      "metadata": {},
      "source": [
        "update **exminations', diagnoses' and anagrafica's tables**"
      ]
    },
    {
      "cell_type": "code",
      "execution_count": 47,
      "metadata": {
        "id": "KJp_clrJY3mz"
      },
      "outputs": [],
      "source": [
        "esamiStrumentali_df = filterDataFrame(esamiStrumentali_df, activePatients_df)"
      ]
    },
    {
      "cell_type": "code",
      "execution_count": 48,
      "metadata": {
        "id": "fbx9cgPRZFh7"
      },
      "outputs": [],
      "source": [
        "esamiLaboratorioParametri_df = filterDataFrame(esamiLaboratorioParametri_df, activePatients_df)"
      ]
    },
    {
      "cell_type": "code",
      "execution_count": 49,
      "metadata": {
        "id": "fqo3btaJZP0G"
      },
      "outputs": [],
      "source": [
        "esamiLaboratorioParametriCalcolati_df = filterDataFrame(esamiLaboratorioParametriCalcolati_df, activePatients_df)"
      ]
    },
    {
      "cell_type": "code",
      "execution_count": 50,
      "metadata": {
        "id": "nz1Nm9-ZPbRw"
      },
      "outputs": [],
      "source": [
        "diagnosi_df = filterDataFrame(diagnosi_df, activePatients_df)"
      ]
    },
    {
      "cell_type": "code",
      "execution_count": 51,
      "metadata": {
        "id": "aH7HaNQI8VZO"
      },
      "outputs": [],
      "source": [
        "anagrafica_df = filterDataFrame(anagrafica_df, activePatients_df)"
      ]
    },
    {
      "cell_type": "code",
      "execution_count": 52,
      "metadata": {
        "colab": {
          "base_uri": "https://localhost:8080/",
          "height": 316
        },
        "id": "vrqznF1v8aQ7",
        "outputId": "7941c703-0980-4136-d043-5c41703549f8"
      },
      "outputs": [
        {
          "name": "stdout",
          "output_type": "stream",
          "text": [
            "Starting Patients: 49590\n",
            "Remaining Patients: 49590\n",
            "Patients of Interest: 100.0 %\n",
            "Patients Discarded: 0.0 %\n"
          ]
        },
        {
          "data": {
            "image/png": "[encoded data removed]",
            "text/plain": [
              "<Figure size 640x480 with 1 Axes>"
            ]
          },
          "metadata": {},
          "output_type": "display_data"
        }
      ],
      "source": [
        "step_4 = anagrafica_df.shape[0]\n",
        "printDistribution(step_3, step_4)"
      ]
    },
    {
      "attachments": {},
      "cell_type": "markdown",
      "metadata": {
        "id": "YU4CL_lJpA_O"
      },
      "source": [
        "## 4. Modify the actual range\n",
        "\n",
        "We are going to modify the columns \"valore\" according to some giving codes and the real range. <br>\n",
        "In fact, if a value associated to a specific code is less than the minimum of the true range, <br>\n",
        "it will be replaced with the minimum value, the same thing for the maximum value.\n",
        "\n",
        "In the table **esami laboratorio parametri** there are AMD codes. These analysed codes with the true range are following: \n",
        "* AMD004: 40 ≤ x ≤ 200\n",
        "* AMD005: 40 ≤ x ≤ 130\n",
        "* AMD007: 50 ≤ x ≤ 500\n",
        "* AMD008: 5 ≤ x ≤ 15"
      ]
    },
    {
      "cell_type": "code",
      "execution_count": 53,
      "metadata": {
        "colab": {
          "base_uri": "https://localhost:8080/"
        },
        "id": "NeBP6iynAgui",
        "outputId": "525cf769-5410-45e8-81f0-e919a864a285"
      },
      "outputs": [],
      "source": [
        "bound_values_AMD = {\n",
        "  'AMD004' : (40, 200),\n",
        "  'AMD005' : (40, 130),\n",
        "  'AMD007' : (50, 500),\n",
        "  'AMD008' : (5, 15)\n",
        "}\n",
        "\n",
        "for codice, bounds in bound_values_AMD.items():\n",
        "  c1 = esamiLaboratorioParametri_df['codiceamd'] == codice\n",
        "  tmp_df = esamiLaboratorioParametri_df[c1]\n",
        "  c2 = esamiLaboratorioParametri_df['codiceamd'] != codice\n",
        "  esamiLaboratorioParametri_df = esamiLaboratorioParametri_df[c2]\n",
        "  #if column 'valore' got a value less than than the minimum of the actual range, the value will replace with minimum\n",
        "  tmp_df['valore'] = tmp_df['valore'].apply(lambda x : bounds[0] if x < bounds[0] else x)\n",
        "  #if column 'valore' got a value more than than the maximum of the actual range, the value will replace with maximum\n",
        "  tmp_df['valore'] = tmp_df['valore'].apply(lambda x : bounds[1] if x > bounds[1] else x)\n",
        "  esamiLaboratorioParametri_df = pd.concat([esamiLaboratorioParametri_df, tmp_df]).reset_index(drop=True)"
      ]
    },
    {
      "cell_type": "code",
      "execution_count": 54,
      "metadata": {
        "id": "JEo9hFsQIPDb"
      },
      "outputs": [],
      "source": [
        "esamiLaboratorioParametri_df = filterDataFrame(esamiLaboratorioParametri_df, activePatients_df)"
      ]
    },
    {
      "cell_type": "code",
      "execution_count": 55,
      "metadata": {
        "id": "Fsc5zmuUIRmP"
      },
      "outputs": [],
      "source": [
        "anagrafica_df = filterDataFrame(anagrafica_df, activePatients_df)"
      ]
    },
    {
      "attachments": {},
      "cell_type": "markdown",
      "metadata": {},
      "source": [
        "In the table **esami laboratorio parametri calcolati** there are STITCH codes. These analysed codes with the true range are following: \n",
        "* STITCH002: 30 ≤ x ≤ 300\n",
        "* STITCH003: 60 ≤ x ≤ 330"
      ]
    },
    {
      "cell_type": "code",
      "execution_count": 56,
      "metadata": {
        "colab": {
          "base_uri": "https://localhost:8080/"
        },
        "id": "leHHWM3cEL7_",
        "outputId": "28922df2-ebdb-4a2d-bd30-efaaff1b0579"
      },
      "outputs": [],
      "source": [
        "bound_values_STITCH = {\n",
        "  'STITCH002' : (30, 300),\n",
        "  'STITCH003' : (60, 330)\n",
        "}\n",
        "\n",
        "for codice, bounds in bound_values_STITCH.items():\n",
        "  c1 = esamiLaboratorioParametriCalcolati_df['codicestitch'] == codice\n",
        "  tmp_df = esamiLaboratorioParametriCalcolati_df[c1]\n",
        "  c2 = esamiLaboratorioParametriCalcolati_df['codicestitch'] != codice\n",
        "  esamiLaboratorioParametriCalcolati_df = esamiLaboratorioParametriCalcolati_df[c2]\n",
        "  tmp_df['valore'] = tmp_df['valore'].apply(lambda x : bounds[0] if x < bounds[0] else x)\n",
        "  tmp_df['valore'] = tmp_df['valore'].apply(lambda x : bounds[1] if x > bounds[1] else x)\n",
        "  esamiLaboratorioParametriCalcolati_df = pd.concat([esamiLaboratorioParametriCalcolati_df, tmp_df]).reset_index(drop=True)"
      ]
    },
    {
      "cell_type": "code",
      "execution_count": 57,
      "metadata": {
        "id": "-nSkmOHzIFaq"
      },
      "outputs": [],
      "source": [
        "esamiLaboratorioParametriCalcolati_df = filterDataFrame(esamiLaboratorioParametriCalcolati_df, activePatients_df)"
      ]
    },
    {
      "cell_type": "code",
      "execution_count": 58,
      "metadata": {
        "id": "bicyd_abIbed"
      },
      "outputs": [],
      "source": [
        "anagrafica_df = filterDataFrame(anagrafica_df, activePatients_df)"
      ]
    },
    {
      "cell_type": "code",
      "execution_count": 59,
      "metadata": {
        "colab": {
          "base_uri": "https://localhost:8080/",
          "height": 316
        },
        "id": "U0Y0m_XqIdk4",
        "outputId": "121acd89-f445-4e3e-af4f-3755c39b5257"
      },
      "outputs": [
        {
          "name": "stdout",
          "output_type": "stream",
          "text": [
            "Starting Patients: 49590\n",
            "Remaining Patients: 49590\n",
            "Patients of Interest: 100.0 %\n",
            "Patients Discarded: 0.0 %\n"
          ]
        },
        {
          "data": {
            "image/png": "[encoded data removed]",
            "text/plain": [
              "<Figure size 640x480 with 1 Axes>"
            ]
          },
          "metadata": {},
          "output_type": "display_data"
        }
      ],
      "source": [
        "step_5 = anagrafica_df.shape[0]\n",
        "printDistribution(step_4, step_5)"
      ]
    },
    {
      "attachments": {},
      "cell_type": "markdown",
      "metadata": {
        "id": "tclcPbwNe-wS"
      },
      "source": [
        "## 5. Cohort selection and label definition\n",
        "\n",
        "The goal is the elimination of the patients that have a trajectory shorter than or equal to 6 months. <br>\n",
        "We start to unify all the dataframes into one."
      ]
    },
    {
      "cell_type": "code",
      "execution_count": 60,
      "metadata": {
        "id": "4z3jCF7xkAaj"
      },
      "outputs": [],
      "source": [
        "tot_col = set()\n",
        "tot_col = tot_col.union(set(prescrDNF_df.columns))\n",
        "tot_col = tot_col.union(set(prescrDF_df.columns))\n",
        "tot_col = tot_col.union(set(prescrND_df.columns))\n",
        "tot_col = tot_col.union(set(esamiStrumentali_df.columns))\n",
        "tot_col = tot_col.union(set(esamiLaboratorioParametri_df.columns))\n",
        "tot_col = tot_col.union(set(esamiLaboratorioParametriCalcolati_df.columns))\n",
        "tot_col = tot_col.union(set(diagnosi_df.columns))\n",
        "tot_col = list(tot_col)"
      ]
    },
    {
      "cell_type": "code",
      "execution_count": 61,
      "metadata": {
        "id": "v8ZNtD2OmEv9"
      },
      "outputs": [],
      "source": [
        "#reorders the columns of the dataframes according to the order specified in the tot_col \n",
        "#which is a set contains all columns' name\n",
        "prescrDNF_df = prescrDNF_df.reindex(columns = tot_col)\n",
        "prescrDF_df = prescrDF_df.reindex(columns = tot_col)\n",
        "prescrND_df = prescrND_df.reindex(columns = tot_col)\n",
        "esamiStrumentali_df = esamiStrumentali_df.reindex(columns = tot_col)\n",
        "esamiLaboratorioParametri_df = esamiLaboratorioParametri_df.reindex(columns = tot_col)\n",
        "esamiLaboratorioParametriCalcolati_df = esamiLaboratorioParametriCalcolati_df.reindex(columns = tot_col)\n",
        "diagnosi_df = diagnosi_df.reindex(columns = tot_col)"
      ]
    },
    {
      "cell_type": "code",
      "execution_count": 62,
      "metadata": {
        "id": "tSGxOTazqo1D"
      },
      "outputs": [],
      "source": [
        "new_path = path + 'tmp_events.csv' #this is the path of a new csv that we are writing"
      ]
    },
    {
      "cell_type": "code",
      "execution_count": 63,
      "metadata": {
        "id": "lbrlpE40npZF"
      },
      "outputs": [],
      "source": [
        "#Write all diagnoses, examinations and prescriptions into a CSV file.\n",
        "prescrDNF_df.to_csv(new_path, mode='w', header=True, index=False)\n",
        "prescrDF_df.to_csv(new_path, mode='a', header=False, index=False)\n",
        "prescrND_df.to_csv(new_path, mode='a', header=False, index=False)\n",
        "esamiStrumentali_df.to_csv(new_path, mode='a', header=False, index=False)\n",
        "esamiLaboratorioParametri_df.to_csv(new_path, mode='a', header=False, index=False)\n",
        "esamiLaboratorioParametriCalcolati_df.to_csv(new_path, mode='a', header=False, index=False)\n",
        "diagnosi_df.to_csv(new_path, mode='a', header=False, index=False)"
      ]
    },
    {
      "cell_type": "code",
      "execution_count": null,
      "metadata": {
        "colab": {
          "base_uri": "https://localhost:8080/"
        },
        "id": "N4eEVMdYpK84",
        "outputId": "d70df2e0-72db-4177-909f-28dd0fdb5c8c"
      },
      "outputs": [],
      "source": [
        "#Read from the new csv which contains a dataframe with all events.\n",
        "events_df = pd.read_csv(new_path)"
      ]
    },
    {
      "attachments": {},
      "cell_type": "markdown",
      "metadata": {},
      "source": [
        "**Eliminate the patients that have a trajectory shorter than or equal to 6 months.**\n",
        "\n",
        "Start to find the maximum date and the minimum date, if the maximum date is subtracted by<br>\n",
        "6 months and the resulting number is greater than the minimum date, the patient’s trajectory <br>\n",
        "is longer than 6 months, for this reason we keep that patient"
      ]
    },
    {
      "cell_type": "code",
      "execution_count": 65,
      "metadata": {
        "id": "e11iTH1Ntvuw"
      },
      "outputs": [],
      "source": [
        "tmp_events_df = events_df.groupby(by=['idcentro', 'idana'], as_index=False).agg(datamin = ('data', 'min'), datamax = ('data', 'max'))\n",
        "tmp_events_df['datamin'] = pd.to_datetime(tmp_events_df['datamin'])\n",
        "tmp_events_df['datamax'] = pd.to_datetime(tmp_events_df['datamax'])\n",
        "c1 = (tmp_events_df['datamax'] - pd.DateOffset(months=6)) > tmp_events_df['datamin']\n",
        "tmp_events_df = tmp_events_df[c1]\n",
        "tmp_events_df = pd.merge(events_df, tmp_events_df, on=['idcentro', 'idana'], how='inner')"
      ]
    },
    {
      "attachments": {},
      "cell_type": "markdown",
      "metadata": {},
      "source": [
        "**calculate the label for all patients**\n",
        "\n",
        "calculate the date of macro-events that is different from the maximum date and<br>\n",
        "add up six months, if the result is greater than the maximum date<br>\n",
        "it means the patient has had a cardiovascular event in the six months since the last date, <br>\n",
        "so the patient is labelled 1. Other patients who do not meet the condition are labelled 0."
      ]
    },
    {
      "cell_type": "code",
      "execution_count": 66,
      "metadata": {
        "id": "1w_LldElvoaV"
      },
      "outputs": [],
      "source": [
        "tmp_events_df['data'] = pd.to_datetime(tmp_events_df['data'])\n",
        "c1 = tmp_events_df['data'] != tmp_events_df['datamax']\n",
        "tmp_df = tmp_events_df[c1]\n",
        "c2 = (tmp_df['data'] + pd.DateOffset(months=6)) > tmp_df['datamax'] \n",
        "tmp_df = tmp_df[c2]\n",
        "tmp_df = tmp_df.groupby(['idcentro', 'idana'], as_index=False)['codiceamd'].apply(lambda x: (x.isin(codes)).sum())\n",
        "tmp_df = tmp_df.rename(columns={'codiceamd' : 'count'})\n",
        "tmp_df = pd.merge(tmp_events_df, tmp_df, on=['idcentro', 'idana'], how='left')"
      ]
    },
    {
      "cell_type": "code",
      "execution_count": 67,
      "metadata": {
        "id": "WLBiZS4qyLkS"
      },
      "outputs": [],
      "source": [
        "condition1 = np.logical_and(tmp_events_df['idcentro'] == tmp_df['idcentro'], tmp_events_df['idana'] == tmp_df['idana'])\n",
        "condition2 = tmp_df['count'] > 0\n",
        "condition = np.logical_and(condition1, condition2)\n",
        "tmp_events_df['label'] = np.where(condition, 1, 0) "
      ]
    },
    {
      "cell_type": "code",
      "execution_count": 68,
      "metadata": {
        "id": "vH5K_OuS6Xl-"
      },
      "outputs": [],
      "source": [
        "tmp_events_df = tmp_events_df.drop(columns=['datamin'], axis=1)"
      ]
    },
    {
      "cell_type": "code",
      "execution_count": 69,
      "metadata": {
        "id": "Sv0b6dCd6ogr"
      },
      "outputs": [
        {
          "data": {
            "text/plain": [
              "15773194"
            ]
          },
          "execution_count": 69,
          "metadata": {},
          "output_type": "execute_result"
        }
      ],
      "source": [
        "definitive_df = pd.merge(tmp_events_df, anagrafica_df, on=['idcentro', 'idana'], how='inner')\n",
        "definitive_df.shape[0]"
      ]
    },
    {
      "cell_type": "code",
      "execution_count": 70,
      "metadata": {
        "colab": {
          "base_uri": "https://localhost:8080/",
          "height": 206
        },
        "id": "rnePPDZV9U_x",
        "outputId": "4bd227c1-659e-4e8a-b3e0-fc0e53ac9fb9"
      },
      "outputs": [
        {
          "data": {
            "text/html": [
              "<div>\n",
              "<style scoped>\n",
              "    .dataframe tbody tr th:only-of-type {\n",
              "        vertical-align: middle;\n",
              "    }\n",
              "\n",
              "    .dataframe tbody tr th {\n",
              "        vertical-align: top;\n",
              "    }\n",
              "\n",
              "    .dataframe thead th {\n",
              "        text-align: right;\n",
              "    }\n",
              "</style>\n",
              "<table border=\"1\" class=\"dataframe\">\n",
              "  <thead>\n",
              "    <tr style=\"text-align: right;\">\n",
              "      <th></th>\n",
              "      <th>codiceamd</th>\n",
              "      <th>data</th>\n",
              "      <th>valore</th>\n",
              "      <th>codiceatc</th>\n",
              "      <th>quantita</th>\n",
              "      <th>idpasto</th>\n",
              "      <th>descrizionefarmaco</th>\n",
              "      <th>idana</th>\n",
              "      <th>codicestitch</th>\n",
              "      <th>idcentro</th>\n",
              "      <th>datamax</th>\n",
              "      <th>label</th>\n",
              "      <th>sesso</th>\n",
              "      <th>annodiagnosidiabete</th>\n",
              "      <th>tipodiabete</th>\n",
              "      <th>annonascita</th>\n",
              "      <th>annodecesso</th>\n",
              "    </tr>\n",
              "  </thead>\n",
              "  <tbody>\n",
              "    <tr>\n",
              "      <th>0</th>\n",
              "      <td>AMD152</td>\n",
              "      <td>2008-06-20</td>\n",
              "      <td>NaN</td>\n",
              "      <td>NaN</td>\n",
              "      <td>NaN</td>\n",
              "      <td>NaN</td>\n",
              "      <td>NaN</td>\n",
              "      <td>5</td>\n",
              "      <td>NaN</td>\n",
              "      <td>1</td>\n",
              "      <td>2013-12-31</td>\n",
              "      <td>1</td>\n",
              "      <td>M</td>\n",
              "      <td>1986.0</td>\n",
              "      <td>5</td>\n",
              "      <td>1942</td>\n",
              "      <td>2014.0</td>\n",
              "    </tr>\n",
              "    <tr>\n",
              "      <th>1</th>\n",
              "      <td>AMD152</td>\n",
              "      <td>2013-08-27</td>\n",
              "      <td>NaN</td>\n",
              "      <td>NaN</td>\n",
              "      <td>NaN</td>\n",
              "      <td>NaN</td>\n",
              "      <td>NaN</td>\n",
              "      <td>5</td>\n",
              "      <td>NaN</td>\n",
              "      <td>1</td>\n",
              "      <td>2013-12-31</td>\n",
              "      <td>1</td>\n",
              "      <td>M</td>\n",
              "      <td>1986.0</td>\n",
              "      <td>5</td>\n",
              "      <td>1942</td>\n",
              "      <td>2014.0</td>\n",
              "    </tr>\n",
              "    <tr>\n",
              "      <th>2</th>\n",
              "      <td>AMD086</td>\n",
              "      <td>2013-12-31</td>\n",
              "      <td>S</td>\n",
              "      <td>NaN</td>\n",
              "      <td>NaN</td>\n",
              "      <td>NaN</td>\n",
              "      <td>NaN</td>\n",
              "      <td>5</td>\n",
              "      <td>NaN</td>\n",
              "      <td>1</td>\n",
              "      <td>2013-12-31</td>\n",
              "      <td>1</td>\n",
              "      <td>M</td>\n",
              "      <td>1986.0</td>\n",
              "      <td>5</td>\n",
              "      <td>1942</td>\n",
              "      <td>2014.0</td>\n",
              "    </tr>\n",
              "    <tr>\n",
              "      <th>3</th>\n",
              "      <td>AMD228</td>\n",
              "      <td>2013-12-31</td>\n",
              "      <td>S</td>\n",
              "      <td>NaN</td>\n",
              "      <td>NaN</td>\n",
              "      <td>NaN</td>\n",
              "      <td>NaN</td>\n",
              "      <td>5</td>\n",
              "      <td>NaN</td>\n",
              "      <td>1</td>\n",
              "      <td>2013-12-31</td>\n",
              "      <td>1</td>\n",
              "      <td>M</td>\n",
              "      <td>1986.0</td>\n",
              "      <td>5</td>\n",
              "      <td>1942</td>\n",
              "      <td>2014.0</td>\n",
              "    </tr>\n",
              "    <tr>\n",
              "      <th>4</th>\n",
              "      <td>NaN</td>\n",
              "      <td>2005-01-18</td>\n",
              "      <td>NaN</td>\n",
              "      <td>A10BA02</td>\n",
              "      <td>2.0</td>\n",
              "      <td>1.0</td>\n",
              "      <td>METFORAL*50CPR RIV 500mg</td>\n",
              "      <td>5</td>\n",
              "      <td>NaN</td>\n",
              "      <td>1</td>\n",
              "      <td>2013-12-31</td>\n",
              "      <td>1</td>\n",
              "      <td>M</td>\n",
              "      <td>1986.0</td>\n",
              "      <td>5</td>\n",
              "      <td>1942</td>\n",
              "      <td>2014.0</td>\n",
              "    </tr>\n",
              "  </tbody>\n",
              "</table>\n",
              "</div>"
            ],
            "text/plain": [
              "  codiceamd       data valore codiceatc  quantita  idpasto  \\\n",
              "0    AMD152 2008-06-20    NaN       NaN       NaN      NaN   \n",
              "1    AMD152 2013-08-27    NaN       NaN       NaN      NaN   \n",
              "2    AMD086 2013-12-31      S       NaN       NaN      NaN   \n",
              "3    AMD228 2013-12-31      S       NaN       NaN      NaN   \n",
              "4       NaN 2005-01-18    NaN   A10BA02       2.0      1.0   \n",
              "\n",
              "         descrizionefarmaco  idana codicestitch  idcentro    datamax  label  \\\n",
              "0                       NaN      5          NaN         1 2013-12-31      1   \n",
              "1                       NaN      5          NaN         1 2013-12-31      1   \n",
              "2                       NaN      5          NaN         1 2013-12-31      1   \n",
              "3                       NaN      5          NaN         1 2013-12-31      1   \n",
              "4  METFORAL*50CPR RIV 500mg      5          NaN         1 2013-12-31      1   \n",
              "\n",
              "  sesso  annodiagnosidiabete  tipodiabete  annonascita  annodecesso  \n",
              "0     M               1986.0            5         1942       2014.0  \n",
              "1     M               1986.0            5         1942       2014.0  \n",
              "2     M               1986.0            5         1942       2014.0  \n",
              "3     M               1986.0            5         1942       2014.0  \n",
              "4     M               1986.0            5         1942       2014.0  "
            ]
          },
          "execution_count": 70,
          "metadata": {},
          "output_type": "execute_result"
        }
      ],
      "source": [
        "definitive_df.head()"
      ]
    },
    {
      "cell_type": "code",
      "execution_count": 71,
      "metadata": {
        "id": "bpUQsdDT7KsF"
      },
      "outputs": [],
      "source": [
        "new_path = path + 'definitive_dataset.csv'"
      ]
    },
    {
      "cell_type": "code",
      "execution_count": 72,
      "metadata": {
        "id": "osbYsZb67m97"
      },
      "outputs": [],
      "source": [
        "definitive_df.to_csv(new_path, mode='w', header=True, index=False)"
      ]
    },
    {
      "cell_type": "code",
      "execution_count": 73,
      "metadata": {
        "colab": {
          "base_uri": "https://localhost:8080/",
          "height": 321
        },
        "id": "_9kPxyeX8XDC",
        "outputId": "8ede1466-7965-4f85-b8d7-921bd62f52bf"
      },
      "outputs": [
        {
          "name": "stdout",
          "output_type": "stream",
          "text": [
            "Starting Patients: 49590\n",
            "Remaining Patients: 47702\n",
            "Patients of Interest: 96.19 %\n",
            "Patients Discarded: 3.81 %\n"
          ]
        },
        {
          "data": {
            "image/png": "[encoded data removed]",
            "text/plain": [
              "<Figure size 640x480 with 1 Axes>"
            ]
          },
          "metadata": {},
          "output_type": "display_data"
        }
      ],
      "source": [
        "tmp_df = definitive_df[['idcentro', 'idana', 'label']]\n",
        "activePatients_df = tmp_df.drop_duplicates().reset_index(drop=True)\n",
        "step_5 = activePatients_df.shape[0]\n",
        "printDistribution(step_4, step_5)"
      ]
    },
    {
      "cell_type": "code",
      "execution_count": 74,
      "metadata": {
        "colab": {
          "base_uri": "https://localhost:8080/",
          "height": 321
        },
        "id": "WYw_wiOW9URr",
        "outputId": "d37ddf41-7090-4e92-c25e-160548d6b35d"
      },
      "outputs": [
        {
          "name": "stdout",
          "output_type": "stream",
          "text": [
            "Starting Patients: 250000\n",
            "Remaining Patients: 47702\n",
            "Patients of Interest: 19.08 %\n",
            "Patients Discarded: 80.92 %\n"
          ]
        },
        {
          "data": {
            "image/png": "[encoded data removed]",
            "text/plain": [
              "<Figure size 640x480 with 1 Axes>"
            ]
          },
          "metadata": {},
          "output_type": "display_data"
        }
      ],
      "source": [
        "printDistribution(step_0, step_5)"
      ]
    },
    {
      "cell_type": "code",
      "execution_count": 75,
      "metadata": {
        "id": "-liC8FLq-kzv"
      },
      "outputs": [],
      "source": [
        "c = activePatients_df['label'] == 1\n",
        "tmp_df = activePatients_df[c]\n",
        "gotCardiovascularPatients = tmp_df.shape[0]\n",
        "c = activePatients_df['label'] == 0\n",
        "tmp_df = activePatients_df[c]\n",
        "notCardiovascularPatients = tmp_df.shape[0]"
      ]
    },
    {
      "cell_type": "code",
      "execution_count": 76,
      "metadata": {
        "colab": {
          "base_uri": "https://localhost:8080/"
        },
        "id": "kCmL7mGH-7ZL",
        "outputId": "f0045569-1f06-4211-aa9d-46cf5532d1e6"
      },
      "outputs": [
        {
          "name": "stdout",
          "output_type": "stream",
          "text": [
            "# Patients with Cardiovascular Events: 8980\n",
            "# Patients not with Cardiovascular Events: 38722\n",
            "% Patients with Cardiovascular Events: 18.83 %\n",
            "% Patients not with Cardiovascular Events: 81.17 %\n"
          ]
        },
        {
          "data": {
            "image/png": "[encoded data removed]",
            "text/plain": [
              "<Figure size 640x480 with 1 Axes>"
            ]
          },
          "metadata": {},
          "output_type": "display_data"
        }
      ],
      "source": [
        "patientCE = getClassDistribution((notCardiovascularPatients+gotCardiovascularPatients), gotCardiovascularPatients)\n",
        "patientNCE = round(100-patientCE, 2)\n",
        "print(\"# Patients with Cardiovascular Events:\", gotCardiovascularPatients)\n",
        "print(\"# Patients not with Cardiovascular Events:\", notCardiovascularPatients)\n",
        "print(\"% Patients with Cardiovascular Events:\", patientCE, \"%\")\n",
        "print(\"% Patients not with Cardiovascular Events:\", patientNCE, \"%\")\n",
        "labels = [\"Patients with Cardiovascular Events\", \"Patients not with Cardiovascular Events\"] \n",
        "pie([patientCE, patientNCE], labels = labels, autopct = '%1.1f%%')\n",
        "show()"
      ]
    },
    {
      "cell_type": "code",
      "execution_count": 77,
      "metadata": {
        "id": "RZTCBV-L9i10"
      },
      "outputs": [],
      "source": [
        "start = definitive_df.shape[0]\n",
        "c = definitive_df['label'] == 1\n",
        "definitive_df = definitive_df[c]\n",
        "cardiovascularEvents = definitive_df.shape[0]\n",
        "notCardiovascularEvents = start - cardiovascularEvents"
      ]
    },
    {
      "cell_type": "code",
      "execution_count": 78,
      "metadata": {
        "colab": {
          "base_uri": "https://localhost:8080/"
        },
        "id": "NfDkjJig99X0",
        "outputId": "16a04832-72d7-4d1e-927e-2b98aa32b459"
      },
      "outputs": [
        {
          "name": "stdout",
          "output_type": "stream",
          "text": [
            "# Cardiovascular Events: 3273605\n",
            "# Not Cardiovascular Events: 12499589\n",
            "% Cardiovascular Events: 20.75 %\n",
            "% Not Cardiovascular Events: 79.25 %\n"
          ]
        },
        {
          "data": {
            "image/png": "[encoded data removed]",
            "text/plain": [
              "<Figure size 640x480 with 1 Axes>"
            ]
          },
          "metadata": {},
          "output_type": "display_data"
        }
      ],
      "source": [
        "CE = getClassDistribution((notCardiovascularEvents+cardiovascularEvents), cardiovascularEvents)\n",
        "NCE = round(100-CE, 2)\n",
        "print(\"# Cardiovascular Events:\", cardiovascularEvents)\n",
        "print(\"# Not Cardiovascular Events:\", notCardiovascularEvents)\n",
        "print(\"% Cardiovascular Events:\", CE, \"%\")\n",
        "print(\"% Not Cardiovascular Events:\", NCE, \"%\")\n",
        "labels = [\"Cardiovascular Events\", \"not Cardiovascular Events\"] \n",
        "pie([CE, NCE], labels = labels, autopct = '%1.1f%%')\n",
        "show()"
      ]
    }
  ],
  "metadata": {
    "accelerator": "GPU",
    "colab": {
      "provenance": []
    },
    "gpuClass": "standard",
    "kernelspec": {
      "display_name": "Python 3",
      "language": "python",
      "name": "python3"
    },
    "language_info": {
      "codemirror_mode": {
        "name": "ipython",
        "version": 3
      },
      "file_extension": ".py",
      "mimetype": "text/x-python",
      "name": "python",
      "nbconvert_exporter": "python",
      "pygments_lexer": "ipython3",
      "version": "3.10.9"
    },
    "vscode": {
      "interpreter": {
        "hash": "44a9cdcbdccbf05a880e90d2e6fe72470baab4d1b82472d890be0596ed887a6b"
      }
    }
  },
  "nbformat": 4,
  "nbformat_minor": 0
}
